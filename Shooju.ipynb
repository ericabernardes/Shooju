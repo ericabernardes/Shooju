{
 "cells": [
  {
   "cell_type": "code",
   "execution_count": 5,
   "metadata": {},
   "outputs": [],
   "source": [
    "import pandas as pd"
   ]
  },
  {
   "cell_type": "code",
   "execution_count": 6,
   "metadata": {},
   "outputs": [],
   "source": [
    "data=pd.read_csv('C:/Users/erica/OneDrive/Documentos/Dados/jodi_gas_beta.csv')"
   ]
  },
  {
   "cell_type": "code",
   "execution_count": 7,
   "metadata": {},
   "outputs": [
    {
     "data": {
      "text/html": [
       "<div>\n",
       "<style scoped>\n",
       "    .dataframe tbody tr th:only-of-type {\n",
       "        vertical-align: middle;\n",
       "    }\n",
       "\n",
       "    .dataframe tbody tr th {\n",
       "        vertical-align: top;\n",
       "    }\n",
       "\n",
       "    .dataframe thead th {\n",
       "        text-align: right;\n",
       "    }\n",
       "</style>\n",
       "<table border=\"1\" class=\"dataframe\">\n",
       "  <thead>\n",
       "    <tr style=\"text-align: right;\">\n",
       "      <th></th>\n",
       "      <th>REF_AREA</th>\n",
       "      <th>TIME_PERIOD</th>\n",
       "      <th>ENERGY_PRODUCT</th>\n",
       "      <th>FLOW_BREAKDOWN</th>\n",
       "      <th>UNIT_MEASURE</th>\n",
       "      <th>OBS_VALUE</th>\n",
       "      <th>ASSESSMENT_CODE</th>\n",
       "    </tr>\n",
       "  </thead>\n",
       "  <tbody>\n",
       "    <tr>\n",
       "      <th>0</th>\n",
       "      <td>AE</td>\n",
       "      <td>2015-01</td>\n",
       "      <td>LNG</td>\n",
       "      <td>EXPLNG</td>\n",
       "      <td>M3</td>\n",
       "      <td>756.9760</td>\n",
       "      <td>2</td>\n",
       "    </tr>\n",
       "    <tr>\n",
       "      <th>1</th>\n",
       "      <td>AE</td>\n",
       "      <td>2015-01</td>\n",
       "      <td>LNG</td>\n",
       "      <td>IMPLNG</td>\n",
       "      <td>M3</td>\n",
       "      <td>8.6278</td>\n",
       "      <td>2</td>\n",
       "    </tr>\n",
       "    <tr>\n",
       "      <th>2</th>\n",
       "      <td>AE</td>\n",
       "      <td>2015-01</td>\n",
       "      <td>NATGAS</td>\n",
       "      <td>EXPLNG</td>\n",
       "      <td>M3</td>\n",
       "      <td>756.9760</td>\n",
       "      <td>3</td>\n",
       "    </tr>\n",
       "    <tr>\n",
       "      <th>3</th>\n",
       "      <td>AE</td>\n",
       "      <td>2015-01</td>\n",
       "      <td>NATGAS</td>\n",
       "      <td>EXPPIP</td>\n",
       "      <td>M3</td>\n",
       "      <td>0.0000</td>\n",
       "      <td>2</td>\n",
       "    </tr>\n",
       "    <tr>\n",
       "      <th>4</th>\n",
       "      <td>AE</td>\n",
       "      <td>2015-01</td>\n",
       "      <td>NATGAS</td>\n",
       "      <td>IMPLNG</td>\n",
       "      <td>M3</td>\n",
       "      <td>8.6278</td>\n",
       "      <td>3</td>\n",
       "    </tr>\n",
       "  </tbody>\n",
       "</table>\n",
       "</div>"
      ],
      "text/plain": [
       "  REF_AREA TIME_PERIOD ENERGY_PRODUCT FLOW_BREAKDOWN UNIT_MEASURE  OBS_VALUE  \\\n",
       "0       AE     2015-01            LNG         EXPLNG           M3   756.9760   \n",
       "1       AE     2015-01            LNG         IMPLNG           M3     8.6278   \n",
       "2       AE     2015-01         NATGAS         EXPLNG           M3   756.9760   \n",
       "3       AE     2015-01         NATGAS         EXPPIP           M3     0.0000   \n",
       "4       AE     2015-01         NATGAS         IMPLNG           M3     8.6278   \n",
       "\n",
       "   ASSESSMENT_CODE  \n",
       "0                2  \n",
       "1                2  \n",
       "2                3  \n",
       "3                2  \n",
       "4                3  "
      ]
     },
     "execution_count": 7,
     "metadata": {},
     "output_type": "execute_result"
    }
   ],
   "source": [
    "data.head()"
   ]
  },
  {
   "cell_type": "code",
   "execution_count": 11,
   "metadata": {},
   "outputs": [],
   "source": [
    "%matplotlib inline\n",
    "import matplotlib.pyplot as plt\n",
    "import seaborn as sns\n",
    "plt.style.use('ggplot')"
   ]
  },
  {
   "cell_type": "code",
   "execution_count": 13,
   "metadata": {},
   "outputs": [
    {
     "data": {
      "text/html": [
       "<div>\n",
       "<style scoped>\n",
       "    .dataframe tbody tr th:only-of-type {\n",
       "        vertical-align: middle;\n",
       "    }\n",
       "\n",
       "    .dataframe tbody tr th {\n",
       "        vertical-align: top;\n",
       "    }\n",
       "\n",
       "    .dataframe thead th {\n",
       "        text-align: right;\n",
       "    }\n",
       "</style>\n",
       "<table border=\"1\" class=\"dataframe\">\n",
       "  <thead>\n",
       "    <tr style=\"text-align: right;\">\n",
       "      <th></th>\n",
       "      <th>OBS_VALUE</th>\n",
       "      <th>ASSESSMENT_CODE</th>\n",
       "    </tr>\n",
       "  </thead>\n",
       "  <tbody>\n",
       "    <tr>\n",
       "      <th>count</th>\n",
       "      <td>1.526240e+05</td>\n",
       "      <td>152624.000000</td>\n",
       "    </tr>\n",
       "    <tr>\n",
       "      <th>mean</th>\n",
       "      <td>3.047737e+04</td>\n",
       "      <td>1.764853</td>\n",
       "    </tr>\n",
       "    <tr>\n",
       "      <th>std</th>\n",
       "      <td>1.688849e+05</td>\n",
       "      <td>0.918203</td>\n",
       "    </tr>\n",
       "    <tr>\n",
       "      <th>min</th>\n",
       "      <td>-1.045645e+06</td>\n",
       "      <td>1.000000</td>\n",
       "    </tr>\n",
       "    <tr>\n",
       "      <th>25%</th>\n",
       "      <td>0.000000e+00</td>\n",
       "      <td>1.000000</td>\n",
       "    </tr>\n",
       "    <tr>\n",
       "      <th>50%</th>\n",
       "      <td>2.593894e+02</td>\n",
       "      <td>1.000000</td>\n",
       "    </tr>\n",
       "    <tr>\n",
       "      <th>75%</th>\n",
       "      <td>5.421000e+03</td>\n",
       "      <td>3.000000</td>\n",
       "    </tr>\n",
       "    <tr>\n",
       "      <th>max</th>\n",
       "      <td>4.376396e+06</td>\n",
       "      <td>3.000000</td>\n",
       "    </tr>\n",
       "  </tbody>\n",
       "</table>\n",
       "</div>"
      ],
      "text/plain": [
       "          OBS_VALUE  ASSESSMENT_CODE\n",
       "count  1.526240e+05    152624.000000\n",
       "mean   3.047737e+04         1.764853\n",
       "std    1.688849e+05         0.918203\n",
       "min   -1.045645e+06         1.000000\n",
       "25%    0.000000e+00         1.000000\n",
       "50%    2.593894e+02         1.000000\n",
       "75%    5.421000e+03         3.000000\n",
       "max    4.376396e+06         3.000000"
      ]
     },
     "execution_count": 13,
     "metadata": {},
     "output_type": "execute_result"
    }
   ],
   "source": [
    "data.describe()"
   ]
  },
  {
   "cell_type": "code",
   "execution_count": 14,
   "metadata": {},
   "outputs": [
    {
     "data": {
      "text/plain": [
       "REF_AREA            object\n",
       "TIME_PERIOD         object\n",
       "ENERGY_PRODUCT      object\n",
       "FLOW_BREAKDOWN      object\n",
       "UNIT_MEASURE        object\n",
       "OBS_VALUE          float64\n",
       "ASSESSMENT_CODE      int64\n",
       "dtype: object"
      ]
     },
     "execution_count": 14,
     "metadata": {},
     "output_type": "execute_result"
    }
   ],
   "source": [
    "data.dtypes"
   ]
  },
  {
   "cell_type": "code",
   "execution_count": 19,
   "metadata": {},
   "outputs": [
    {
     "data": {
      "text/plain": [
       "(152624, 7)"
      ]
     },
     "execution_count": 19,
     "metadata": {},
     "output_type": "execute_result"
    }
   ],
   "source": [
    "data.shape"
   ]
  },
  {
   "cell_type": "code",
   "execution_count": 35,
   "metadata": {},
   "outputs": [
    {
     "data": {
      "text/plain": [
       "0        2015-01-01\n",
       "1        2015-01-01\n",
       "2        2015-01-01\n",
       "3        2015-01-01\n",
       "4        2015-01-01\n",
       "            ...    \n",
       "152619   2018-08-01\n",
       "152620   2018-08-01\n",
       "152621   2018-08-01\n",
       "152622   2018-08-01\n",
       "152623   2018-08-01\n",
       "Name: TIME_PERIOD, Length: 152624, dtype: datetime64[ns]"
      ]
     },
     "execution_count": 35,
     "metadata": {},
     "output_type": "execute_result"
    }
   ],
   "source": [
    "pd.to_datetime(data.TIME_PERIOD)"
   ]
  },
  {
   "cell_type": "code",
   "execution_count": 36,
   "metadata": {},
   "outputs": [],
   "source": [
    "data.TIME_PERIOD=pd.to_datetime(data.TIME_PERIOD)"
   ]
  },
  {
   "cell_type": "code",
   "execution_count": 38,
   "metadata": {},
   "outputs": [
    {
     "name": "stdout",
     "output_type": "stream",
     "text": [
      "<class 'pandas.core.frame.DataFrame'>\n",
      "RangeIndex: 152624 entries, 0 to 152623\n",
      "Data columns (total 7 columns):\n",
      " #   Column           Non-Null Count   Dtype         \n",
      "---  ------           --------------   -----         \n",
      " 0   REF_AREA         152624 non-null  object        \n",
      " 1   TIME_PERIOD      152624 non-null  datetime64[ns]\n",
      " 2   ENERGY_PRODUCT   152624 non-null  object        \n",
      " 3   FLOW_BREAKDOWN   152624 non-null  object        \n",
      " 4   UNIT_MEASURE     152624 non-null  object        \n",
      " 5   OBS_VALUE        152624 non-null  float64       \n",
      " 6   ASSESSMENT_CODE  152624 non-null  int64         \n",
      "dtypes: datetime64[ns](1), float64(1), int64(1), object(4)\n",
      "memory usage: 8.2+ MB\n"
     ]
    }
   ],
   "source": [
    "data.info()"
   ]
  },
  {
   "cell_type": "code",
   "execution_count": 39,
   "metadata": {},
   "outputs": [],
   "source": [
    "data.set_index('TIME_PERIOD',inplace=True)"
   ]
  },
  {
   "cell_type": "code",
   "execution_count": 40,
   "metadata": {},
   "outputs": [
    {
     "name": "stdout",
     "output_type": "stream",
     "text": [
      "<class 'pandas.core.frame.DataFrame'>\n",
      "DatetimeIndex: 152624 entries, 2015-01-01 to 2018-08-01\n",
      "Data columns (total 6 columns):\n",
      " #   Column           Non-Null Count   Dtype  \n",
      "---  ------           --------------   -----  \n",
      " 0   REF_AREA         152624 non-null  object \n",
      " 1   ENERGY_PRODUCT   152624 non-null  object \n",
      " 2   FLOW_BREAKDOWN   152624 non-null  object \n",
      " 3   UNIT_MEASURE     152624 non-null  object \n",
      " 4   OBS_VALUE        152624 non-null  float64\n",
      " 5   ASSESSMENT_CODE  152624 non-null  int64  \n",
      "dtypes: float64(1), int64(1), object(4)\n",
      "memory usage: 8.2+ MB\n"
     ]
    }
   ],
   "source": [
    "data.info()"
   ]
  },
  {
   "cell_type": "code",
   "execution_count": 45,
   "metadata": {},
   "outputs": [
    {
     "data": {
      "text/plain": [
       "<matplotlib.axes._subplots.AxesSubplot at 0x251497c1ec8>"
      ]
     },
     "execution_count": 45,
     "metadata": {},
     "output_type": "execute_result"
    },
    {
     "data": {
      "image/png": "[encoded data removed]",
      "text/plain": [
       "<Figure size 1440x504 with 1 Axes>"
      ]
     },
     "metadata": {},
     "output_type": "display_data"
    }
   ],
   "source": [
    "data.plot(figsize=(20,7))"
   ]
  },
  {
   "cell_type": "code",
   "execution_count": null,
   "metadata": {},
   "outputs": [],
   "source": []
  }
 ],
 "metadata": {
  "kernelspec": {
   "display_name": "Python 3",
   "language": "python",
   "name": "python3"
  },
  "language_info": {
   "codemirror_mode": {
    "name": "ipython",
    "version": 3
   },
   "file_extension": ".py",
   "mimetype": "text/x-python",
   "name": "python",
   "nbconvert_exporter": "python",
   "pygments_lexer": "ipython3",
   "version": "3.7.6"
  }
 },
 "nbformat": 4,
 "nbformat_minor": 4
}
